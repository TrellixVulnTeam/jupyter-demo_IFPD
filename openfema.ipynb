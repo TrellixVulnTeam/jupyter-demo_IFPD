{
 "cells": [
  {
   "cell_type": "code",
   "execution_count": 6,
   "metadata": {},
   "outputs": [
    {
     "name": "stdout",
     "output_type": "stream",
     "text": [
      "{'metadata': {'skip': 0, 'top': 10, 'count': 0, 'filter': '', 'format': 'json', 'metadata': True, 'orderby': {'disasterNumber': 1}, 'select': None, 'entityname': 'DisasterDeclarationsSummaries', 'version': 'v1', 'url': '/api/open/v1/DisasterDeclarationsSummaries?$top=10&$orderby=disasterNumber&$format=json', 'rundate': '2020-11-02T21:30:07.951Z', 'DeprecationInformation': {'depDate': '2020-04-30T04:00:00.000Z', 'deprecatedComment': 'Replaced by Version 2 of the data set', 'depApiMessage': 'This dataset has been deprecated and will no longer be available by the date specified. It is recommended that the new endpoint be used. See the OpenFEMA documentation for additional information.', 'depNewURL': 'https://www.fema.gov/openfema-dataset-disaster-declarations-summaries-v2', 'depWebMessage': \"A newer version of this OpenFEMA data set has been released. This older dataset version will no longer be updated and will be archived by the end of April 2020. The following page details the latest version of this data set: https://www.fema.gov/openfema-dataset-disaster-declarations-summaries-v2. CSV and JSON Files can be downloaded from the 'Full Data' section.\\n\\nTo access the dataset through an API endpoint, visit the 'API Endpoint' section of the above page. Accessing data in this fashion permits data filtering, sorting, and field selection. The OpenFEMA API Documentation page provides information on API usage. \\n\\nIf you have any questions, please contact the OpenFEMA team at OpenFEMA@fema.dhs.gov.\"}}, 'DisasterDeclarationsSummaries': [{'disasterNumber': '1', 'ihProgramDeclared': False, 'iaProgramDeclared': True, 'paProgramDeclared': True, 'hmProgramDeclared': True, 'state': 'GA', 'declarationDate': '1953-05-02T00:00:00.000Z', 'fyDeclared': 1953, 'disasterType': 'DR', 'incidentType': 'Tornado', 'title': 'TORNADO', 'incidentBeginDate': '1953-05-02T00:00:00.000Z', 'incidentEndDate': '1953-05-02T00:00:00.000Z', 'disasterCloseOutDate': '1954-06-01T00:00:00.000Z', 'declaredCountyArea': '', 'placeCode': '', 'hash': '1dcb40d0664d22d39de787b706b0fa69', 'lastRefresh': '2020-09-23T19:21:12.987Z', 'id': '5f6ba02931a8c6681cfc6943'}, {'disasterNumber': '100', 'ihProgramDeclared': False, 'iaProgramDeclared': True, 'paProgramDeclared': True, 'hmProgramDeclared': True, 'state': 'MO', 'declarationDate': '1960-04-20T00:00:00.000Z', 'fyDeclared': 1960, 'disasterType': 'DR', 'incidentType': 'Flood', 'title': 'FLOODS', 'incidentBeginDate': '1960-04-20T00:00:00.000Z', 'incidentEndDate': '1960-04-20T00:00:00.000Z', 'disasterCloseOutDate': '1962-03-20T00:00:00.000Z', 'declaredCountyArea': '', 'placeCode': '', 'hash': 'c6ead43641bd0b713d06a11137edad1b', 'lastRefresh': '2020-09-23T19:21:13.582Z', 'id': '5f6ba02931a8c6681cfc6b30'}, {'disasterNumber': '1000', 'ihProgramDeclared': False, 'iaProgramDeclared': True, 'paProgramDeclared': True, 'hmProgramDeclared': False, 'state': 'KS', 'declarationDate': '1993-07-22T00:00:00.000Z', 'fyDeclared': 1993, 'disasterType': 'DR', 'incidentType': 'Flood', 'title': 'SEVERE STORMS & FLOODING', 'incidentBeginDate': '1993-06-28T00:00:00.000Z', 'incidentEndDate': '1993-10-05T00:00:00.000Z', 'disasterCloseOutDate': '2007-03-28T00:00:00.000Z', 'declaredCountyArea': 'Atchison (County)', 'placeCode': '99005', 'hash': '1ae6ed09fa00dde3567420562c54a71a', 'lastRefresh': '2020-09-23T19:21:24.590Z', 'id': '5f6ba03431a8c6681cfcefb5'}, {'disasterNumber': '1000', 'ihProgramDeclared': False, 'iaProgramDeclared': True, 'paProgramDeclared': True, 'hmProgramDeclared': False, 'state': 'KS', 'declarationDate': '1993-07-22T00:00:00.000Z', 'fyDeclared': 1993, 'disasterType': 'DR', 'incidentType': 'Flood', 'title': 'SEVERE STORMS & FLOODING', 'incidentBeginDate': '1993-06-28T00:00:00.000Z', 'incidentEndDate': '1993-10-05T00:00:00.000Z', 'disasterCloseOutDate': '2007-03-28T00:00:00.000Z', 'declaredCountyArea': 'Barton (County)', 'placeCode': '99009', 'hash': '3cef41beba2dd1c52f6c783e68f53586', 'lastRefresh': '2020-09-23T19:21:24.591Z', 'id': '5f6ba03431a8c6681cfcefb7'}, {'disasterNumber': '1000', 'ihProgramDeclared': False, 'iaProgramDeclared': True, 'paProgramDeclared': True, 'hmProgramDeclared': False, 'state': 'KS', 'declarationDate': '1993-07-22T00:00:00.000Z', 'fyDeclared': 1993, 'disasterType': 'DR', 'incidentType': 'Flood', 'title': 'SEVERE STORMS & FLOODING', 'incidentBeginDate': '1993-06-28T00:00:00.000Z', 'incidentEndDate': '1993-10-05T00:00:00.000Z', 'disasterCloseOutDate': '2007-03-28T00:00:00.000Z', 'declaredCountyArea': 'Brown (County)', 'placeCode': '99013', 'hash': '37426cb21383c5851840b7065212aafe', 'lastRefresh': '2020-09-23T19:21:24.591Z', 'id': '5f6ba03431a8c6681cfcefb9'}, {'disasterNumber': '1000', 'ihProgramDeclared': False, 'iaProgramDeclared': True, 'paProgramDeclared': True, 'hmProgramDeclared': False, 'state': 'KS', 'declarationDate': '1993-07-22T00:00:00.000Z', 'fyDeclared': 1993, 'disasterType': 'DR', 'incidentType': 'Flood', 'title': 'SEVERE STORMS & FLOODING', 'incidentBeginDate': '1993-06-28T00:00:00.000Z', 'incidentEndDate': '1993-10-05T00:00:00.000Z', 'disasterCloseOutDate': '2007-03-28T00:00:00.000Z', 'declaredCountyArea': 'Chase (County)', 'placeCode': '99017', 'hash': '6fb44a214740a7a3893a5c323dbd5f6c', 'lastRefresh': '2020-09-23T19:21:24.591Z', 'id': '5f6ba03431a8c6681cfcefbb'}, {'disasterNumber': '1000', 'ihProgramDeclared': False, 'iaProgramDeclared': True, 'paProgramDeclared': True, 'hmProgramDeclared': False, 'state': 'KS', 'declarationDate': '1993-07-22T00:00:00.000Z', 'fyDeclared': 1993, 'disasterType': 'DR', 'incidentType': 'Flood', 'title': 'SEVERE STORMS & FLOODING', 'incidentBeginDate': '1993-06-28T00:00:00.000Z', 'incidentEndDate': '1993-10-05T00:00:00.000Z', 'disasterCloseOutDate': '2007-03-28T00:00:00.000Z', 'declaredCountyArea': 'Cherokee (County)', 'placeCode': '99021', 'hash': 'c594b82b42c157f002941e1345609a9b', 'lastRefresh': '2020-09-23T19:21:24.592Z', 'id': '5f6ba03431a8c6681cfcefbf'}, {'disasterNumber': '1000', 'ihProgramDeclared': False, 'iaProgramDeclared': True, 'paProgramDeclared': True, 'hmProgramDeclared': False, 'state': 'KS', 'declarationDate': '1993-07-22T00:00:00.000Z', 'fyDeclared': 1993, 'disasterType': 'DR', 'incidentType': 'Flood', 'title': 'SEVERE STORMS & FLOODING', 'incidentBeginDate': '1993-06-28T00:00:00.000Z', 'incidentEndDate': '1993-10-05T00:00:00.000Z', 'disasterCloseOutDate': '2007-03-28T00:00:00.000Z', 'declaredCountyArea': 'Clay (County)', 'placeCode': '99027', 'hash': 'eaf98f854c940e35fe09637d44b65008', 'lastRefresh': '2020-09-23T19:21:24.594Z', 'id': '5f6ba03431a8c6681cfcefc6'}, {'disasterNumber': '1000', 'ihProgramDeclared': False, 'iaProgramDeclared': True, 'paProgramDeclared': True, 'hmProgramDeclared': False, 'state': 'KS', 'declarationDate': '1993-07-22T00:00:00.000Z', 'fyDeclared': 1993, 'disasterType': 'DR', 'incidentType': 'Flood', 'title': 'SEVERE STORMS & FLOODING', 'incidentBeginDate': '1993-06-28T00:00:00.000Z', 'incidentEndDate': '1993-10-05T00:00:00.000Z', 'disasterCloseOutDate': '2007-03-28T00:00:00.000Z', 'declaredCountyArea': 'Cloud (County)', 'placeCode': '99029', 'hash': '9da26e3fa3f79ce5cdd3aa29718e5318', 'lastRefresh': '2020-09-23T19:21:24.594Z', 'id': '5f6ba03431a8c6681cfcefc8'}, {'disasterNumber': '1000', 'ihProgramDeclared': False, 'iaProgramDeclared': True, 'paProgramDeclared': True, 'hmProgramDeclared': False, 'state': 'KS', 'declarationDate': '1993-07-22T00:00:00.000Z', 'fyDeclared': 1993, 'disasterType': 'DR', 'incidentType': 'Flood', 'title': 'SEVERE STORMS & FLOODING', 'incidentBeginDate': '1993-06-28T00:00:00.000Z', 'incidentEndDate': '1993-10-05T00:00:00.000Z', 'disasterCloseOutDate': '2007-03-28T00:00:00.000Z', 'declaredCountyArea': 'Crawford (County)', 'placeCode': '99037', 'hash': '3b70a6d9f2e6bebcb5971adfda0af9b1', 'lastRefresh': '2020-09-23T19:21:24.595Z', 'id': '5f6ba03431a8c6681cfcefca'}]}\n"
     ]
    }
   ],
   "source": [
    "import requests \n",
    "import numpy as np\n",
    "import pandas as pd\n",
    "from pandas.io.json import json_normalize  \n",
    "\n",
    "url = \"https://www.fema.gov/api/open/v1/DisasterDeclarationsSummaries?$top=10&$orderby=disasterNumber&$format=json\"\n",
    "apiResponse = requests.get(url)\n",
    "responseJson = apiResponse.json()\n",
    "print(responseJson)"
   ]
  },
  {
   "cell_type": "code",
   "execution_count": 7,
   "metadata": {},
   "outputs": [
    {
     "name": "stdout",
     "output_type": "stream",
     "text": [
      "  disasterNumber  ihProgramDeclared  iaProgramDeclared  paProgramDeclared  \\\n",
      "0              1              False               True               True   \n",
      "1            100              False               True               True   \n",
      "2           1000              False               True               True   \n",
      "3           1000              False               True               True   \n",
      "4           1000              False               True               True   \n",
      "5           1000              False               True               True   \n",
      "6           1000              False               True               True   \n",
      "7           1000              False               True               True   \n",
      "8           1000              False               True               True   \n",
      "9           1000              False               True               True   \n",
      "\n",
      "   hmProgramDeclared state           declarationDate  fyDeclared disasterType  \\\n",
      "0               True    GA  1953-05-02T00:00:00.000Z        1953           DR   \n",
      "1               True    MO  1960-04-20T00:00:00.000Z        1960           DR   \n",
      "2              False    KS  1993-07-22T00:00:00.000Z        1993           DR   \n",
      "3              False    KS  1993-07-22T00:00:00.000Z        1993           DR   \n",
      "4              False    KS  1993-07-22T00:00:00.000Z        1993           DR   \n",
      "5              False    KS  1993-07-22T00:00:00.000Z        1993           DR   \n",
      "6              False    KS  1993-07-22T00:00:00.000Z        1993           DR   \n",
      "7              False    KS  1993-07-22T00:00:00.000Z        1993           DR   \n",
      "8              False    KS  1993-07-22T00:00:00.000Z        1993           DR   \n",
      "9              False    KS  1993-07-22T00:00:00.000Z        1993           DR   \n",
      "\n",
      "  incidentType                     title         incidentBeginDate  \\\n",
      "0      Tornado                   TORNADO  1953-05-02T00:00:00.000Z   \n",
      "1        Flood                    FLOODS  1960-04-20T00:00:00.000Z   \n",
      "2        Flood  SEVERE STORMS & FLOODING  1993-06-28T00:00:00.000Z   \n",
      "3        Flood  SEVERE STORMS & FLOODING  1993-06-28T00:00:00.000Z   \n",
      "4        Flood  SEVERE STORMS & FLOODING  1993-06-28T00:00:00.000Z   \n",
      "5        Flood  SEVERE STORMS & FLOODING  1993-06-28T00:00:00.000Z   \n",
      "6        Flood  SEVERE STORMS & FLOODING  1993-06-28T00:00:00.000Z   \n",
      "7        Flood  SEVERE STORMS & FLOODING  1993-06-28T00:00:00.000Z   \n",
      "8        Flood  SEVERE STORMS & FLOODING  1993-06-28T00:00:00.000Z   \n",
      "9        Flood  SEVERE STORMS & FLOODING  1993-06-28T00:00:00.000Z   \n",
      "\n",
      "            incidentEndDate      disasterCloseOutDate declaredCountyArea  \\\n",
      "0  1953-05-02T00:00:00.000Z  1954-06-01T00:00:00.000Z                      \n",
      "1  1960-04-20T00:00:00.000Z  1962-03-20T00:00:00.000Z                      \n",
      "2  1993-10-05T00:00:00.000Z  2007-03-28T00:00:00.000Z  Atchison (County)   \n",
      "3  1993-10-05T00:00:00.000Z  2007-03-28T00:00:00.000Z    Barton (County)   \n",
      "4  1993-10-05T00:00:00.000Z  2007-03-28T00:00:00.000Z     Brown (County)   \n",
      "5  1993-10-05T00:00:00.000Z  2007-03-28T00:00:00.000Z     Chase (County)   \n",
      "6  1993-10-05T00:00:00.000Z  2007-03-28T00:00:00.000Z  Cherokee (County)   \n",
      "7  1993-10-05T00:00:00.000Z  2007-03-28T00:00:00.000Z      Clay (County)   \n",
      "8  1993-10-05T00:00:00.000Z  2007-03-28T00:00:00.000Z     Cloud (County)   \n",
      "9  1993-10-05T00:00:00.000Z  2007-03-28T00:00:00.000Z  Crawford (County)   \n",
      "\n",
      "  placeCode                              hash               lastRefresh  \\\n",
      "0            1dcb40d0664d22d39de787b706b0fa69  2020-09-23T19:21:12.987Z   \n",
      "1            c6ead43641bd0b713d06a11137edad1b  2020-09-23T19:21:13.582Z   \n",
      "2     99005  1ae6ed09fa00dde3567420562c54a71a  2020-09-23T19:21:24.590Z   \n",
      "3     99009  3cef41beba2dd1c52f6c783e68f53586  2020-09-23T19:21:24.591Z   \n",
      "4     99013  37426cb21383c5851840b7065212aafe  2020-09-23T19:21:24.591Z   \n",
      "5     99017  6fb44a214740a7a3893a5c323dbd5f6c  2020-09-23T19:21:24.591Z   \n",
      "6     99021  c594b82b42c157f002941e1345609a9b  2020-09-23T19:21:24.592Z   \n",
      "7     99027  eaf98f854c940e35fe09637d44b65008  2020-09-23T19:21:24.594Z   \n",
      "8     99029  9da26e3fa3f79ce5cdd3aa29718e5318  2020-09-23T19:21:24.594Z   \n",
      "9     99037  3b70a6d9f2e6bebcb5971adfda0af9b1  2020-09-23T19:21:24.595Z   \n",
      "\n",
      "                         id  \n",
      "0  5f6ba02931a8c6681cfc6943  \n",
      "1  5f6ba02931a8c6681cfc6b30  \n",
      "2  5f6ba03431a8c6681cfcefb5  \n",
      "3  5f6ba03431a8c6681cfcefb7  \n",
      "4  5f6ba03431a8c6681cfcefb9  \n",
      "5  5f6ba03431a8c6681cfcefbb  \n",
      "6  5f6ba03431a8c6681cfcefbf  \n",
      "7  5f6ba03431a8c6681cfcefc6  \n",
      "8  5f6ba03431a8c6681cfcefc8  \n",
      "9  5f6ba03431a8c6681cfcefca  \n"
     ]
    },
    {
     "name": "stderr",
     "output_type": "stream",
     "text": [
      "<ipython-input-7-a28d39e2343d>:10: FutureWarning: pandas.io.json.json_normalize is deprecated, use pandas.json_normalize instead\n",
      "  df = json_normalize(responseJson, 'DisasterDeclarationsSummaries')\n"
     ]
    }
   ],
   "source": [
    "import requests \n",
    "import numpy as np\n",
    "import pandas as pd\n",
    "from pandas.io.json import json_normalize  \n",
    "\n",
    "url = \"https://www.fema.gov/api/open/v1/DisasterDeclarationsSummaries?$top=10&$orderby=disasterNumber&$format=json\"\n",
    "apiResponse = requests.get(url)\n",
    "responseJson = apiResponse.json()\n",
    "\n",
    "df = json_normalize(responseJson, 'DisasterDeclarationsSummaries')\n",
    "print(df)"
   ]
  },
  {
   "cell_type": "code",
   "execution_count": 8,
   "metadata": {},
   "outputs": [
    {
     "name": "stdout",
     "output_type": "stream",
     "text": [
      "   disasterNumber     damagedCity damagedStateAbbreviation damagedZipCode  \\\n",
      "0            4332         HOUSTON                       TX          77033   \n",
      "1            4332  CORPUS CHRISTI                       TX          78413   \n",
      "2            4332       WOODVILLE                       TX          75979   \n",
      "3            4332         HOUSTON                       TX          77004   \n",
      "4            4332         HOUSTON                       TX          77036   \n",
      "5            4332          SPRING                       TX          77373   \n",
      "6            4332       CLEVELAND                       TX          77327   \n",
      "7            4332        PASADENA                       TX          77502   \n",
      "8            4332   SOUTH HOUSTON                       TX          77587   \n",
      "9            4332      HUNTSVILLE                       TX          77320   \n",
      "\n",
      "   householdComposition  grossIncome  specialNeeds ownRent residenceType  \\\n",
      "0                     1          NaN         False  Renter  House/Duplex   \n",
      "1                     2      30000.0         False   Owner  House/Duplex   \n",
      "2                     2      45000.0         False   Owner   Mobile Home   \n",
      "3                     4     200000.0         False   Owner  House/Duplex   \n",
      "4                     1       6000.0         False  Renter     Apartment   \n",
      "5                     2      28000.0         False  Renter     Townhouse   \n",
      "6                     1       8820.0         False  Renter   Mobile Home   \n",
      "7                     1      48000.0         False  Renter         Other   \n",
      "8                     1          NaN         False   Owner  House/Duplex   \n",
      "9                     2      42000.0         False   Owner  House/Duplex   \n",
      "\n",
      "   homeOwnersInsurance  ...  rentalAssistanceEndDate  rentalResourceCity  \\\n",
      "0                False  ...                     None                None   \n",
      "1                 True  ...                     None                None   \n",
      "2                 True  ...                     None                None   \n",
      "3                 True  ...                     None                None   \n",
      "4                False  ...                     None                None   \n",
      "5                False  ...                     None                None   \n",
      "6                False  ...                     None                None   \n",
      "7                False  ...                     None                None   \n",
      "8                False  ...                     None                None   \n",
      "9                 True  ...                     None                None   \n",
      "\n",
      "   rentalResourceStateAbbreviation rentalResourceZipCode  primaryResidence  \\\n",
      "0                             None                  None              True   \n",
      "1                             None                  None              True   \n",
      "2                             None                  None              True   \n",
      "3                             None                  None              True   \n",
      "4                             None                  None              True   \n",
      "5                             None                  None              True   \n",
      "6                             None                  None              True   \n",
      "7                             None                  None              True   \n",
      "8                             None                  None              True   \n",
      "9                             None                  None              True   \n",
      "\n",
      "   personalPropertyEligible    ppfvl    censusBlockId censusYear  \\\n",
      "0                     False     0.00  482013321001024       2017   \n",
      "1                     False     0.00  483550054092001       2017   \n",
      "2                     False     0.00  484579502005051       2017   \n",
      "3                     False      NaN  482013129002017       2017   \n",
      "4                     False      NaN  482014334001003       2017   \n",
      "5                     False      NaN  482012411024017       2017   \n",
      "6                      True  2277.26  482917002001042       2017   \n",
      "7                     False      NaN  482013232002005       2017   \n",
      "8                     False      NaN  482013215001015       2017   \n",
      "9                     False     0.00  484717901013248       2017   \n",
      "\n",
      "                         id  \n",
      "0  5c12d6adf2238e6fe4fe92a2  \n",
      "1  5c12d6adf2238e6fe4fe929f  \n",
      "2  5c12d6adf2238e6fe4fe92a3  \n",
      "3  5c12d6adf2238e6fe4fe92a0  \n",
      "4  5c12d6adf2238e6fe4fe92a1  \n",
      "5  5c12d6adf2238e6fe4fe92ab  \n",
      "6  5c12d6adf2238e6fe4fe92a5  \n",
      "7  5c12d6adf2238e6fe4fe92e7  \n",
      "8  5c12d6adf2238e6fe4fe9305  \n",
      "9  5c12d6adf2238e6fe4fe92e6  \n",
      "\n",
      "[10 rows x 41 columns]\n"
     ]
    },
    {
     "name": "stderr",
     "output_type": "stream",
     "text": [
      "<ipython-input-8-90baa42ec70e>:13: FutureWarning: pandas.io.json.json_normalize is deprecated, use pandas.json_normalize instead\n",
      "  df = json_normalize(responseJson, 'DisasterDeclarationsSummaries')\n",
      "<ipython-input-8-90baa42ec70e>:14: FutureWarning: pandas.io.json.json_normalize is deprecated, use pandas.json_normalize instead\n",
      "  df2 = json_normalize(responseJson2, 'IndividualAssistanceHousingRegistrantsLargeDisasters')\n"
     ]
    }
   ],
   "source": [
    "import requests \n",
    "import numpy as np\n",
    "import pandas as pd\n",
    "from pandas.io.json import json_normalize  \n",
    "\n",
    "url = \"https://www.fema.gov/api/open/v1/DisasterDeclarationsSummaries?$top=10&$orderby=disasterNumber&$format=json\"\n",
    "url2 = \"https://www.fema.gov/api/open/v1/IndividualAssistanceHousingRegistrantsLargeDisasters?$top=10&$orderby=disasterNumber&$format=json\"\n",
    "apiResponse = requests.get(url)\n",
    "apiResponse2 = requests.get(url2)\n",
    "responseJson = apiResponse.json()\n",
    "responseJson2 = apiResponse2.json()\n",
    "\n",
    "df = json_normalize(responseJson, 'DisasterDeclarationsSummaries')\n",
    "df2 = json_normalize(responseJson2, 'IndividualAssistanceHousingRegistrantsLargeDisasters')\n",
    "print(df2)"
   ]
  },
  {
   "cell_type": "code",
   "execution_count": 9,
   "metadata": {},
   "outputs": [
    {
     "name": "stderr",
     "output_type": "stream",
     "text": [
      "<ipython-input-9-39f99b554173>:14: FutureWarning: pandas.io.json.json_normalize is deprecated, use pandas.json_normalize instead\n",
      "  df = json_normalize(responseJson, 'DisasterDeclarationsSummaries')\n",
      "<ipython-input-9-39f99b554173>:15: FutureWarning: pandas.io.json.json_normalize is deprecated, use pandas.json_normalize instead\n",
      "  df2 = json_normalize(responseJson2, 'IndividualAssistanceHousingRegistrantsLargeDisasters')\n"
     ]
    },
    {
     "data": {
      "text/plain": "    disasterNumber ihProgramDeclared iaProgramDeclared paProgramDeclared  \\\n0                1             False              True              True   \n1              100             False              True              True   \n2             1000             False              True              True   \n3             1000             False              True              True   \n4             1000             False              True              True   \n..             ...               ...               ...               ...   \n995           4332               NaN               NaN               NaN   \n996           4332               NaN               NaN               NaN   \n997           4332               NaN               NaN               NaN   \n998           4332               NaN               NaN               NaN   \n999           4332               NaN               NaN               NaN   \n\n    hmProgramDeclared state           declarationDate  fyDeclared  \\\n0                True    GA  1953-05-02T00:00:00.000Z      1953.0   \n1                True    MO  1960-04-20T00:00:00.000Z      1960.0   \n2               False    KS  1993-07-22T00:00:00.000Z      1993.0   \n3               False    KS  1993-07-22T00:00:00.000Z      1993.0   \n4               False    KS  1993-07-22T00:00:00.000Z      1993.0   \n..                ...   ...                       ...         ...   \n995               NaN   NaN                       NaN         NaN   \n996               NaN   NaN                       NaN         NaN   \n997               NaN   NaN                       NaN         NaN   \n998               NaN   NaN                       NaN         NaN   \n999               NaN   NaN                       NaN         NaN   \n\n    disasterType incidentType  ... renterDamageLevel rentalAssistanceEndDate  \\\n0             DR      Tornado  ...               NaN                     NaN   \n1             DR        Flood  ...               NaN                     NaN   \n2             DR        Flood  ...               NaN                     NaN   \n3             DR        Flood  ...               NaN                     NaN   \n4             DR        Flood  ...               NaN                     NaN   \n..           ...          ...  ...               ...                     ...   \n995          NaN          NaN  ...              None                    None   \n996          NaN          NaN  ...              None                    None   \n997          NaN          NaN  ...              None                    None   \n998          NaN          NaN  ...              None                    None   \n999          NaN          NaN  ...              None                    None   \n\n    rentalResourceCity rentalResourceStateAbbreviation rentalResourceZipCode  \\\n0                  NaN                             NaN                   NaN   \n1                  NaN                             NaN                   NaN   \n2                  NaN                             NaN                   NaN   \n3                  NaN                             NaN                   NaN   \n4                  NaN                             NaN                   NaN   \n..                 ...                             ...                   ...   \n995               None                            None                  None   \n996               None                            None                  None   \n997               None                            None                  None   \n998               None                            None                  None   \n999               None                            None                  None   \n\n    primaryResidence personalPropertyEligible ppfvl    censusBlockId  \\\n0                NaN                      NaN   NaN              NaN   \n1                NaN                      NaN   NaN              NaN   \n2                NaN                      NaN   NaN              NaN   \n3                NaN                      NaN   NaN              NaN   \n4                NaN                      NaN   NaN              NaN   \n..               ...                      ...   ...              ...   \n995             True                    False   NaN  482013321001026   \n996             True                    False   0.0  482013404001009   \n997             True                    False   NaN  482014534032000   \n998             True                    False   0.0  482013502001029   \n999             True                    False   NaN  482013417001000   \n\n    censusYear  \n0          NaN  \n1          NaN  \n2          NaN  \n3          NaN  \n4          NaN  \n..         ...  \n995       2017  \n996       2017  \n997       2017  \n998       2017  \n999       2017  \n\n[2000 rows x 58 columns]",
      "text/html": "<div>\n<style scoped>\n    .dataframe tbody tr th:only-of-type {\n        vertical-align: middle;\n    }\n\n    .dataframe tbody tr th {\n        vertical-align: top;\n    }\n\n    .dataframe thead th {\n        text-align: right;\n    }\n</style>\n<table border=\"1\" class=\"dataframe\">\n  <thead>\n    <tr style=\"text-align: right;\">\n      <th></th>\n      <th>disasterNumber</th>\n      <th>ihProgramDeclared</th>\n      <th>iaProgramDeclared</th>\n      <th>paProgramDeclared</th>\n      <th>hmProgramDeclared</th>\n      <th>state</th>\n      <th>declarationDate</th>\n      <th>fyDeclared</th>\n      <th>disasterType</th>\n      <th>incidentType</th>\n      <th>...</th>\n      <th>renterDamageLevel</th>\n      <th>rentalAssistanceEndDate</th>\n      <th>rentalResourceCity</th>\n      <th>rentalResourceStateAbbreviation</th>\n      <th>rentalResourceZipCode</th>\n      <th>primaryResidence</th>\n      <th>personalPropertyEligible</th>\n      <th>ppfvl</th>\n      <th>censusBlockId</th>\n      <th>censusYear</th>\n    </tr>\n  </thead>\n  <tbody>\n    <tr>\n      <th>0</th>\n      <td>1</td>\n      <td>False</td>\n      <td>True</td>\n      <td>True</td>\n      <td>True</td>\n      <td>GA</td>\n      <td>1953-05-02T00:00:00.000Z</td>\n      <td>1953.0</td>\n      <td>DR</td>\n      <td>Tornado</td>\n      <td>...</td>\n      <td>NaN</td>\n      <td>NaN</td>\n      <td>NaN</td>\n      <td>NaN</td>\n      <td>NaN</td>\n      <td>NaN</td>\n      <td>NaN</td>\n      <td>NaN</td>\n      <td>NaN</td>\n      <td>NaN</td>\n    </tr>\n    <tr>\n      <th>1</th>\n      <td>100</td>\n      <td>False</td>\n      <td>True</td>\n      <td>True</td>\n      <td>True</td>\n      <td>MO</td>\n      <td>1960-04-20T00:00:00.000Z</td>\n      <td>1960.0</td>\n      <td>DR</td>\n      <td>Flood</td>\n      <td>...</td>\n      <td>NaN</td>\n      <td>NaN</td>\n      <td>NaN</td>\n      <td>NaN</td>\n      <td>NaN</td>\n      <td>NaN</td>\n      <td>NaN</td>\n      <td>NaN</td>\n      <td>NaN</td>\n      <td>NaN</td>\n    </tr>\n    <tr>\n      <th>2</th>\n      <td>1000</td>\n      <td>False</td>\n      <td>True</td>\n      <td>True</td>\n      <td>False</td>\n      <td>KS</td>\n      <td>1993-07-22T00:00:00.000Z</td>\n      <td>1993.0</td>\n      <td>DR</td>\n      <td>Flood</td>\n      <td>...</td>\n      <td>NaN</td>\n      <td>NaN</td>\n      <td>NaN</td>\n      <td>NaN</td>\n      <td>NaN</td>\n      <td>NaN</td>\n      <td>NaN</td>\n      <td>NaN</td>\n      <td>NaN</td>\n      <td>NaN</td>\n    </tr>\n    <tr>\n      <th>3</th>\n      <td>1000</td>\n      <td>False</td>\n      <td>True</td>\n      <td>True</td>\n      <td>False</td>\n      <td>KS</td>\n      <td>1993-07-22T00:00:00.000Z</td>\n      <td>1993.0</td>\n      <td>DR</td>\n      <td>Flood</td>\n      <td>...</td>\n      <td>NaN</td>\n      <td>NaN</td>\n      <td>NaN</td>\n      <td>NaN</td>\n      <td>NaN</td>\n      <td>NaN</td>\n      <td>NaN</td>\n      <td>NaN</td>\n      <td>NaN</td>\n      <td>NaN</td>\n    </tr>\n    <tr>\n      <th>4</th>\n      <td>1000</td>\n      <td>False</td>\n      <td>True</td>\n      <td>True</td>\n      <td>False</td>\n      <td>KS</td>\n      <td>1993-07-22T00:00:00.000Z</td>\n      <td>1993.0</td>\n      <td>DR</td>\n      <td>Flood</td>\n      <td>...</td>\n      <td>NaN</td>\n      <td>NaN</td>\n      <td>NaN</td>\n      <td>NaN</td>\n      <td>NaN</td>\n      <td>NaN</td>\n      <td>NaN</td>\n      <td>NaN</td>\n      <td>NaN</td>\n      <td>NaN</td>\n    </tr>\n    <tr>\n      <th>...</th>\n      <td>...</td>\n      <td>...</td>\n      <td>...</td>\n      <td>...</td>\n      <td>...</td>\n      <td>...</td>\n      <td>...</td>\n      <td>...</td>\n      <td>...</td>\n      <td>...</td>\n      <td>...</td>\n      <td>...</td>\n      <td>...</td>\n      <td>...</td>\n      <td>...</td>\n      <td>...</td>\n      <td>...</td>\n      <td>...</td>\n      <td>...</td>\n      <td>...</td>\n      <td>...</td>\n    </tr>\n    <tr>\n      <th>995</th>\n      <td>4332</td>\n      <td>NaN</td>\n      <td>NaN</td>\n      <td>NaN</td>\n      <td>NaN</td>\n      <td>NaN</td>\n      <td>NaN</td>\n      <td>NaN</td>\n      <td>NaN</td>\n      <td>NaN</td>\n      <td>...</td>\n      <td>None</td>\n      <td>None</td>\n      <td>None</td>\n      <td>None</td>\n      <td>None</td>\n      <td>True</td>\n      <td>False</td>\n      <td>NaN</td>\n      <td>482013321001026</td>\n      <td>2017</td>\n    </tr>\n    <tr>\n      <th>996</th>\n      <td>4332</td>\n      <td>NaN</td>\n      <td>NaN</td>\n      <td>NaN</td>\n      <td>NaN</td>\n      <td>NaN</td>\n      <td>NaN</td>\n      <td>NaN</td>\n      <td>NaN</td>\n      <td>NaN</td>\n      <td>...</td>\n      <td>None</td>\n      <td>None</td>\n      <td>None</td>\n      <td>None</td>\n      <td>None</td>\n      <td>True</td>\n      <td>False</td>\n      <td>0.0</td>\n      <td>482013404001009</td>\n      <td>2017</td>\n    </tr>\n    <tr>\n      <th>997</th>\n      <td>4332</td>\n      <td>NaN</td>\n      <td>NaN</td>\n      <td>NaN</td>\n      <td>NaN</td>\n      <td>NaN</td>\n      <td>NaN</td>\n      <td>NaN</td>\n      <td>NaN</td>\n      <td>NaN</td>\n      <td>...</td>\n      <td>None</td>\n      <td>None</td>\n      <td>None</td>\n      <td>None</td>\n      <td>None</td>\n      <td>True</td>\n      <td>False</td>\n      <td>NaN</td>\n      <td>482014534032000</td>\n      <td>2017</td>\n    </tr>\n    <tr>\n      <th>998</th>\n      <td>4332</td>\n      <td>NaN</td>\n      <td>NaN</td>\n      <td>NaN</td>\n      <td>NaN</td>\n      <td>NaN</td>\n      <td>NaN</td>\n      <td>NaN</td>\n      <td>NaN</td>\n      <td>NaN</td>\n      <td>...</td>\n      <td>None</td>\n      <td>None</td>\n      <td>None</td>\n      <td>None</td>\n      <td>None</td>\n      <td>True</td>\n      <td>False</td>\n      <td>0.0</td>\n      <td>482013502001029</td>\n      <td>2017</td>\n    </tr>\n    <tr>\n      <th>999</th>\n      <td>4332</td>\n      <td>NaN</td>\n      <td>NaN</td>\n      <td>NaN</td>\n      <td>NaN</td>\n      <td>NaN</td>\n      <td>NaN</td>\n      <td>NaN</td>\n      <td>NaN</td>\n      <td>NaN</td>\n      <td>...</td>\n      <td>None</td>\n      <td>None</td>\n      <td>None</td>\n      <td>None</td>\n      <td>None</td>\n      <td>True</td>\n      <td>False</td>\n      <td>NaN</td>\n      <td>482013417001000</td>\n      <td>2017</td>\n    </tr>\n  </tbody>\n</table>\n<p>2000 rows × 58 columns</p>\n</div>"
     },
     "execution_count": 9,
     "metadata": {},
     "output_type": "execute_result"
    }
   ],
   "source": [
    "import requests \n",
    "import numpy as np\n",
    "import pandas as pd\n",
    "import matplotlib.pyplot as plt\n",
    "from pandas.io.json import json_normalize\n",
    "\n",
    "url = \"https://www.fema.gov/api/open/v1/DisasterDeclarationsSummaries?$top=1000&$orderby=disasterNumber&$format=json\"\n",
    "url2 = \"https://www.fema.gov/api/open/v1/IndividualAssistanceHousingRegistrantsLargeDisasters?$top=1000&$orderby=disasterNumber&$format=json\"\n",
    "apiResponse = requests.get(url)\n",
    "apiResponse2 = requests.get(url2)\n",
    "responseJson = apiResponse.json()\n",
    "responseJson2 = apiResponse2.json()\n",
    "\n",
    "df = json_normalize(responseJson, 'DisasterDeclarationsSummaries')\n",
    "df2 = json_normalize(responseJson2, 'IndividualAssistanceHousingRegistrantsLargeDisasters')\n",
    "frames = [df, df2]\n",
    "pd.concat(frames, join='outer', sort=False)"
   ]
  },
  {
   "cell_type": "code",
   "execution_count": 10,
   "metadata": {},
   "outputs": [
    {
     "name": "stderr",
     "output_type": "stream",
     "text": [
      "<ipython-input-10-dd26e1b64a7c>:14: FutureWarning: pandas.io.json.json_normalize is deprecated, use pandas.json_normalize instead\n",
      "  df = json_normalize(responseJson, 'DisasterDeclarationsSummaries')\n",
      "<ipython-input-10-dd26e1b64a7c>:15: FutureWarning: pandas.io.json.json_normalize is deprecated, use pandas.json_normalize instead\n",
      "  df2 = json_normalize(responseJson2, 'IndividualAssistanceHousingRegistrantsLargeDisasters')\n"
     ]
    },
    {
     "data": {
      "text/plain": "<AxesSubplot:>"
     },
     "execution_count": 10,
     "metadata": {},
     "output_type": "execute_result"
    },
    {
     "data": {
      "text/plain": "<Figure size 432x288 with 0 Axes>"
     },
     "metadata": {},
     "output_type": "display_data"
    },
    {
     "data": {
      "text/plain": "<Figure size 432x288 with 1 Axes>",
      "image/png": "[encoded data removed]"
     },
     "metadata": {
      "needs_background": "light"
     },
     "output_type": "display_data"
    }
   ],
   "source": [
    "import requests \n",
    "import numpy as np\n",
    "import pandas as pd\n",
    "import matplotlib.pyplot as plt\n",
    "from pandas.io.json import json_normalize\n",
    "\n",
    "url = \"https://www.fema.gov/api/open/v1/DisasterDeclarationsSummaries?$top=1000&$orderby=disasterNumber&$format=json\"\n",
    "url2 = \"https://www.fema.gov/api/open/v1/IndividualAssistanceHousingRegistrantsLargeDisasters?$top=1000&$orderby=disasterNumber&$format=json\"\n",
    "apiResponse = requests.get(url)\n",
    "apiResponse2 = requests.get(url2)\n",
    "responseJson = apiResponse.json()\n",
    "responseJson2 = apiResponse2.json()\n",
    "\n",
    "df = json_normalize(responseJson, 'DisasterDeclarationsSummaries')\n",
    "df2 = json_normalize(responseJson2, 'IndividualAssistanceHousingRegistrantsLargeDisasters')\n",
    "frames = [df, df2]\n",
    "dfcat = pd.concat(frames, join='outer')\n",
    "df = df.cumsum()\n",
    "plt.figure()\n",
    "dfcat.plot()"
   ]
  },
  {
   "cell_type": "code",
   "execution_count": 10,
   "metadata": {},
   "outputs": [],
   "source": []
  }
 ],
 "metadata": {
  "kernelspec": {
   "display_name": "Python 3",
   "language": "python",
   "name": "python3"
  },
  "language_info": {
   "codemirror_mode": {
    "name": "ipython",
    "version": 3
   },
   "file_extension": ".py",
   "mimetype": "text/x-python",
   "name": "python",
   "nbconvert_exporter": "python",
   "pygments_lexer": "ipython3",
   "version": "3.5.2"
  }
 },
 "nbformat": 4,
 "nbformat_minor": 4
}